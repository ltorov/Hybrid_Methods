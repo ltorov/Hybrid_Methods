{
 "cells": [
  {
   "cell_type": "code",
   "execution_count": null,
   "metadata": {},
   "outputs": [],
   "source": [
    "!pip install opencv-python\n",
    "!pip install tensorflow_hub\n"
   ]
  },
  {
   "cell_type": "code",
   "execution_count": null,
   "metadata": {},
   "outputs": [],
   "source": [
    "import cv2\n",
    "import tensorflow_hub as hub\n",
    "import tensorflow as tf\n",
    "from matplotlib import pyplot as plt\n",
    "import numpy as np\n",
    "import os"
   ]
  },
  {
   "cell_type": "code",
   "execution_count": null,
   "metadata": {},
   "outputs": [],
   "source": [
    "# Open the video file for reading\n",
    "cam = cv2.VideoCapture(\"IMG_3508.MOV\")\n",
    "\n",
    "# Initialize a variable to keep track of the current frame number\n",
    "currentframe = 0\n",
    "\n",
    "# Start a loop to read frames from the video\n",
    "while (True):\n",
    "    # Read a frame from the video\n",
    "    ret, frame = cam.read()\n",
    "    \n",
    "    # Check if the frame was read successfully\n",
    "    if ret:\n",
    "        # Define the name for the output image file\n",
    "        name = f'frames/frame{currentframe}.jpg'\n",
    "        \n",
    "        # Save the frame as an image with the specified name\n",
    "        cv2.imwrite(name, frame)\n",
    "        \n",
    "        # Increment the current frame number\n",
    "        currentframe += 1\n",
    "    else:\n",
    "        # If the frame cannot be read, break out of the loop\n",
    "        break\n",
    "\n",
    "# Release the video capture object\n",
    "cam.release()\n",
    "\n",
    "# Close all OpenCV windows\n",
    "cv2.destroyAllWindows()"
   ]
  },
  {
   "cell_type": "code",
   "execution_count": null,
   "metadata": {},
   "outputs": [],
   "source": [
    "# Load a pre-trained styleGAN model from TensorFlow Hub\n",
    "model = hub.load('https://tfhub.dev/google/magenta/arbitrary-image-stylization-v1-256/2')\n",
    "\n",
    "# Define a function to load an image from a file and preprocess it\n",
    "def load_image(img_path):\n",
    "    img = tf.io.read_file(img_path)  # Read the image file\n",
    "    img = tf.image.decode_image(img, channels=3)  # Decode the image with 3 color channels\n",
    "    img = tf.image.convert_image_dtype(img, tf.float32)  # Convert image data type to float32\n",
    "    img = img[tf.newaxis, :]  # Add a batch dimension to the image\n",
    "    return img\n",
    "\n",
    "# Load the style image using the load_image function\n",
    "style_image = load_image('style.jpg')\n",
    "\n",
    "# Get a list of image files in the 'frames' directory\n",
    "frames_images = os.listdir('frames')\n",
    "\n",
    "# Iterate through each frame image and apply stylization\n",
    "for frame in range(len(frames_images)):\n",
    "    # Load the current frame image using the load_image function\n",
    "    content_image = load_image(f'frames/frame{frame}.jpg')\n",
    "    \n",
    "    # Apply stylization to the frame using the loaded model and style image\n",
    "    stylized_image = model(tf.constant(content_image), tf.constant(style_image))[0]\n",
    "    \n",
    "    # Save the stylized frame as an image in the 'styled_frames' directory\n",
    "    cv2.imwrite(f'styled_frames/generated_frame{frame}.jpg', cv2.cvtColor(np.squeeze(stylized_image)*255, cv2.COLOR_BGR2RGB))\n"
   ]
  },
  {
   "cell_type": "code",
   "execution_count": null,
   "metadata": {},
   "outputs": [],
   "source": [
    "# Create an empty list to store the frames that will be used to generate the video\n",
    "img_array = []\n",
    "\n",
    "# Iterate through the generated stylized frames\n",
    "for generated_frame in range(len(frames_images)):\n",
    "    # Read a stylized frame image from the 'styled_frames' directory\n",
    "    img = cv2.imread(f'styled_frames/generated_frame{generated_frame}.jpg')\n",
    "    \n",
    "    # Get the height, width, and number of color channels of the frame\n",
    "    height, width, layers = img.shape\n",
    "    \n",
    "    # Define the size of the frame using its width and height\n",
    "    size = (width, height)\n",
    "    \n",
    "    # Append the frame to the img_array list\n",
    "    img_array.append(img)\n",
    "\n",
    "# Create a VideoWriter object to write the frames into a video file\n",
    "out = cv2.VideoWriter('styled_video.mp4', cv2.VideoWriter_fourcc(*'MP4V'), 30, size)\n",
    "\n",
    "# Iterate through the list of frames and write them to the video\n",
    "for i in range(len(img_array)):\n",
    "    out.write(img_array[i])\n",
    "\n",
    "# Release the VideoWriter, finalizing the video creation\n",
    "out.release()"
   ]
  }
 ],
 "metadata": {
  "kernelspec": {
   "display_name": "Python 3.11.0 64-bit",
   "language": "python",
   "name": "python3"
  },
  "language_info": {
   "codemirror_mode": {
    "name": "ipython",
    "version": 3
   },
   "file_extension": ".py",
   "mimetype": "text/x-python",
   "name": "python",
   "nbconvert_exporter": "python",
   "pygments_lexer": "ipython3",
   "version": "3.11.2"
  },
  "orig_nbformat": 4,
  "vscode": {
   "interpreter": {
    "hash": "aee8b7b246df8f9039afb4144a1f6fd8d2ca17a180786b69acc140d282b71a49"
   }
  }
 },
 "nbformat": 4,
 "nbformat_minor": 2
}
